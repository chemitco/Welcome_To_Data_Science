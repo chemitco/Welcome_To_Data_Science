{
 "cells": [
  {
   "cell_type": "markdown",
   "metadata": {},
   "source": [
    "# Feature Selection"
   ]
  },
  {
   "cell_type": "markdown",
   "metadata": {},
   "source": [
    "This can help us to high performance model with very features."
   ]
  },
  {
   "cell_type": "markdown",
   "metadata": {},
   "source": [
    "If there are thousands of features in data set, then it will be impossible to deal with them manually using just the domain and our business understanding."
   ]
  },
  {
   "cell_type": "markdown",
   "metadata": {},
   "source": [
    "Then the automatic feature selection or automatic features elemination becoem the key."
   ]
  },
  {
   "cell_type": "markdown",
   "metadata": {},
   "source": [
    "This is the where the knowledge of statistics is going to play a key role in undertanding the process."
   ]
  },
  {
   "cell_type": "markdown",
   "metadata": {},
   "source": [
    "Curse of Dimensionality- In order to increase the performance of model, we add the features but there will be an optimum point from which the performance of model will be going down."
   ]
  },
  {
   "cell_type": "markdown",
   "metadata": {},
   "source": [
    "![](15.png)"
   ]
  },
  {
   "cell_type": "markdown",
   "metadata": {},
   "source": [
    "If the quality of the data is not good, the output will also be bad. It can have a bad effect on the R-squared value. There are numerous benifits that we can get by selecting or rejecting some of the features. Having fewer features simplifies the model and we will be in a better position to explain the prediction power or the behaviour of our model. Secondly removing the unwanted features, it will remove all the noise. The training time will be much shorter. It will also reduce overfitting. We will also avoid the curse of dimensionality."
   ]
  },
  {
   "cell_type": "markdown",
   "metadata": {},
   "source": [
    "Scikit Learn provides multiple ways of features selection."
   ]
  },
  {
   "cell_type": "markdown",
   "metadata": {},
   "source": [
    "![](16.png)"
   ]
  },
  {
   "cell_type": "markdown",
   "metadata": {},
   "source": [
    "# 1) Univariate Features Selection-"
   ]
  },
  {
   "cell_type": "markdown",
   "metadata": {},
   "source": [
    "Step1- get all independent features\n",
    "\n",
    "Step2- Apply relevant statistical method.\n",
    "\n",
    "Step3- Get P value and compare with the significance level.\n",
    "\n",
    "Step4- Select the feature if P< alpha value."
   ]
  },
  {
   "cell_type": "markdown",
   "metadata": {},
   "source": [
    "![](17.png)"
   ]
  },
  {
   "cell_type": "markdown",
   "metadata": {},
   "source": [
    "![](19.png)\n",
    "![](20.png)\n",
    "![](21.png)\n",
    "![](22.png)\n",
    "![](23.png)"
   ]
  },
  {
   "cell_type": "markdown",
   "metadata": {},
   "source": [
    "F-Test for Regression and Classification"
   ]
  },
  {
   "cell_type": "markdown",
   "metadata": {},
   "source": [
    "![](24.png)"
   ]
  },
  {
   "cell_type": "markdown",
   "metadata": {},
   "source": [
    "![](25.png)"
   ]
  },
  {
   "cell_type": "markdown",
   "metadata": {},
   "source": [
    "Hands on F Test"
   ]
  },
  {
   "cell_type": "code",
   "execution_count": 1,
   "metadata": {},
   "outputs": [],
   "source": [
    "#import libraries\n",
    "import pandas as pd"
   ]
  },
  {
   "cell_type": "code",
   "execution_count": 2,
   "metadata": {},
   "outputs": [],
   "source": [
    "#Read the file\n",
    "f= pd.read_csv('Students2.csv')"
   ]
  },
  {
   "cell_type": "code",
   "execution_count": 3,
   "metadata": {},
   "outputs": [
    {
     "data": {
      "text/html": [
       "<div>\n",
       "<style scoped>\n",
       "    .dataframe tbody tr th:only-of-type {\n",
       "        vertical-align: middle;\n",
       "    }\n",
       "\n",
       "    .dataframe tbody tr th {\n",
       "        vertical-align: top;\n",
       "    }\n",
       "\n",
       "    .dataframe thead th {\n",
       "        text-align: right;\n",
       "    }\n",
       "</style>\n",
       "<table border=\"1\" class=\"dataframe\">\n",
       "  <thead>\n",
       "    <tr style=\"text-align: right;\">\n",
       "      <th></th>\n",
       "      <th>Hours</th>\n",
       "      <th>sHours</th>\n",
       "      <th>hoursplayed</th>\n",
       "      <th>income</th>\n",
       "      <th>distance</th>\n",
       "      <th>calories</th>\n",
       "      <th>Marks</th>\n",
       "    </tr>\n",
       "  </thead>\n",
       "  <tbody>\n",
       "    <tr>\n",
       "      <th>0</th>\n",
       "      <td>0</td>\n",
       "      <td>6</td>\n",
       "      <td>6</td>\n",
       "      <td>146</td>\n",
       "      <td>9</td>\n",
       "      <td>2491</td>\n",
       "      <td>34</td>\n",
       "    </tr>\n",
       "    <tr>\n",
       "      <th>1</th>\n",
       "      <td>1</td>\n",
       "      <td>7</td>\n",
       "      <td>2</td>\n",
       "      <td>112</td>\n",
       "      <td>5</td>\n",
       "      <td>2303</td>\n",
       "      <td>36</td>\n",
       "    </tr>\n",
       "    <tr>\n",
       "      <th>2</th>\n",
       "      <td>1</td>\n",
       "      <td>6</td>\n",
       "      <td>1</td>\n",
       "      <td>84</td>\n",
       "      <td>7</td>\n",
       "      <td>2475</td>\n",
       "      <td>33</td>\n",
       "    </tr>\n",
       "    <tr>\n",
       "      <th>3</th>\n",
       "      <td>1</td>\n",
       "      <td>8</td>\n",
       "      <td>5</td>\n",
       "      <td>134</td>\n",
       "      <td>0</td>\n",
       "      <td>2282</td>\n",
       "      <td>39</td>\n",
       "    </tr>\n",
       "    <tr>\n",
       "      <th>4</th>\n",
       "      <td>1</td>\n",
       "      <td>8</td>\n",
       "      <td>5</td>\n",
       "      <td>104</td>\n",
       "      <td>8</td>\n",
       "      <td>2359</td>\n",
       "      <td>42</td>\n",
       "    </tr>\n",
       "    <tr>\n",
       "      <th>5</th>\n",
       "      <td>2</td>\n",
       "      <td>8</td>\n",
       "      <td>4</td>\n",
       "      <td>80</td>\n",
       "      <td>1</td>\n",
       "      <td>2354</td>\n",
       "      <td>45</td>\n",
       "    </tr>\n",
       "    <tr>\n",
       "      <th>6</th>\n",
       "      <td>2</td>\n",
       "      <td>6</td>\n",
       "      <td>3</td>\n",
       "      <td>93</td>\n",
       "      <td>0</td>\n",
       "      <td>2943</td>\n",
       "      <td>38</td>\n",
       "    </tr>\n",
       "    <tr>\n",
       "      <th>7</th>\n",
       "      <td>3</td>\n",
       "      <td>6</td>\n",
       "      <td>3</td>\n",
       "      <td>83</td>\n",
       "      <td>7</td>\n",
       "      <td>2119</td>\n",
       "      <td>45</td>\n",
       "    </tr>\n",
       "    <tr>\n",
       "      <th>8</th>\n",
       "      <td>3</td>\n",
       "      <td>7</td>\n",
       "      <td>6</td>\n",
       "      <td>139</td>\n",
       "      <td>1</td>\n",
       "      <td>2511</td>\n",
       "      <td>53</td>\n",
       "    </tr>\n",
       "    <tr>\n",
       "      <th>9</th>\n",
       "      <td>3</td>\n",
       "      <td>7</td>\n",
       "      <td>5</td>\n",
       "      <td>138</td>\n",
       "      <td>10</td>\n",
       "      <td>2666</td>\n",
       "      <td>46</td>\n",
       "    </tr>\n",
       "    <tr>\n",
       "      <th>10</th>\n",
       "      <td>3</td>\n",
       "      <td>8</td>\n",
       "      <td>5</td>\n",
       "      <td>98</td>\n",
       "      <td>2</td>\n",
       "      <td>2934</td>\n",
       "      <td>56</td>\n",
       "    </tr>\n",
       "    <tr>\n",
       "      <th>11</th>\n",
       "      <td>4</td>\n",
       "      <td>8</td>\n",
       "      <td>1</td>\n",
       "      <td>90</td>\n",
       "      <td>0</td>\n",
       "      <td>2838</td>\n",
       "      <td>59</td>\n",
       "    </tr>\n",
       "    <tr>\n",
       "      <th>12</th>\n",
       "      <td>4</td>\n",
       "      <td>7</td>\n",
       "      <td>3</td>\n",
       "      <td>140</td>\n",
       "      <td>7</td>\n",
       "      <td>2102</td>\n",
       "      <td>55</td>\n",
       "    </tr>\n",
       "    <tr>\n",
       "      <th>13</th>\n",
       "      <td>4</td>\n",
       "      <td>7</td>\n",
       "      <td>6</td>\n",
       "      <td>144</td>\n",
       "      <td>3</td>\n",
       "      <td>2560</td>\n",
       "      <td>56</td>\n",
       "    </tr>\n",
       "    <tr>\n",
       "      <th>14</th>\n",
       "      <td>5</td>\n",
       "      <td>8</td>\n",
       "      <td>2</td>\n",
       "      <td>144</td>\n",
       "      <td>5</td>\n",
       "      <td>2068</td>\n",
       "      <td>72</td>\n",
       "    </tr>\n",
       "    <tr>\n",
       "      <th>15</th>\n",
       "      <td>5</td>\n",
       "      <td>6</td>\n",
       "      <td>2</td>\n",
       "      <td>119</td>\n",
       "      <td>6</td>\n",
       "      <td>2541</td>\n",
       "      <td>59</td>\n",
       "    </tr>\n",
       "    <tr>\n",
       "      <th>16</th>\n",
       "      <td>6</td>\n",
       "      <td>6</td>\n",
       "      <td>1</td>\n",
       "      <td>140</td>\n",
       "      <td>6</td>\n",
       "      <td>2690</td>\n",
       "      <td>62</td>\n",
       "    </tr>\n",
       "    <tr>\n",
       "      <th>17</th>\n",
       "      <td>6</td>\n",
       "      <td>7</td>\n",
       "      <td>1</td>\n",
       "      <td>85</td>\n",
       "      <td>3</td>\n",
       "      <td>2956</td>\n",
       "      <td>71</td>\n",
       "    </tr>\n",
       "    <tr>\n",
       "      <th>18</th>\n",
       "      <td>7</td>\n",
       "      <td>8</td>\n",
       "      <td>2</td>\n",
       "      <td>140</td>\n",
       "      <td>8</td>\n",
       "      <td>2239</td>\n",
       "      <td>78</td>\n",
       "    </tr>\n",
       "    <tr>\n",
       "      <th>19</th>\n",
       "      <td>7</td>\n",
       "      <td>8</td>\n",
       "      <td>6</td>\n",
       "      <td>107</td>\n",
       "      <td>0</td>\n",
       "      <td>2703</td>\n",
       "      <td>88</td>\n",
       "    </tr>\n",
       "    <tr>\n",
       "      <th>20</th>\n",
       "      <td>7</td>\n",
       "      <td>6</td>\n",
       "      <td>5</td>\n",
       "      <td>85</td>\n",
       "      <td>7</td>\n",
       "      <td>2603</td>\n",
       "      <td>61</td>\n",
       "    </tr>\n",
       "    <tr>\n",
       "      <th>21</th>\n",
       "      <td>7</td>\n",
       "      <td>6</td>\n",
       "      <td>3</td>\n",
       "      <td>109</td>\n",
       "      <td>0</td>\n",
       "      <td>2031</td>\n",
       "      <td>74</td>\n",
       "    </tr>\n",
       "    <tr>\n",
       "      <th>22</th>\n",
       "      <td>8</td>\n",
       "      <td>7</td>\n",
       "      <td>5</td>\n",
       "      <td>108</td>\n",
       "      <td>0</td>\n",
       "      <td>2885</td>\n",
       "      <td>71</td>\n",
       "    </tr>\n",
       "    <tr>\n",
       "      <th>23</th>\n",
       "      <td>8</td>\n",
       "      <td>8</td>\n",
       "      <td>1</td>\n",
       "      <td>150</td>\n",
       "      <td>8</td>\n",
       "      <td>2153</td>\n",
       "      <td>89</td>\n",
       "    </tr>\n",
       "    <tr>\n",
       "      <th>24</th>\n",
       "      <td>9</td>\n",
       "      <td>8</td>\n",
       "      <td>4</td>\n",
       "      <td>150</td>\n",
       "      <td>9</td>\n",
       "      <td>2384</td>\n",
       "      <td>82</td>\n",
       "    </tr>\n",
       "    <tr>\n",
       "      <th>25</th>\n",
       "      <td>9</td>\n",
       "      <td>5</td>\n",
       "      <td>5</td>\n",
       "      <td>84</td>\n",
       "      <td>10</td>\n",
       "      <td>2882</td>\n",
       "      <td>67</td>\n",
       "    </tr>\n",
       "    <tr>\n",
       "      <th>26</th>\n",
       "      <td>9</td>\n",
       "      <td>8</td>\n",
       "      <td>5</td>\n",
       "      <td>127</td>\n",
       "      <td>5</td>\n",
       "      <td>2271</td>\n",
       "      <td>89</td>\n",
       "    </tr>\n",
       "    <tr>\n",
       "      <th>27</th>\n",
       "      <td>10</td>\n",
       "      <td>8</td>\n",
       "      <td>6</td>\n",
       "      <td>95</td>\n",
       "      <td>6</td>\n",
       "      <td>2264</td>\n",
       "      <td>81</td>\n",
       "    </tr>\n",
       "    <tr>\n",
       "      <th>28</th>\n",
       "      <td>10</td>\n",
       "      <td>8</td>\n",
       "      <td>5</td>\n",
       "      <td>72</td>\n",
       "      <td>5</td>\n",
       "      <td>2522</td>\n",
       "      <td>82</td>\n",
       "    </tr>\n",
       "    <tr>\n",
       "      <th>29</th>\n",
       "      <td>11</td>\n",
       "      <td>7</td>\n",
       "      <td>3</td>\n",
       "      <td>89</td>\n",
       "      <td>3</td>\n",
       "      <td>2279</td>\n",
       "      <td>79</td>\n",
       "    </tr>\n",
       "  </tbody>\n",
       "</table>\n",
       "</div>"
      ],
      "text/plain": [
       "    Hours  sHours  hoursplayed  income  distance  calories  Marks\n",
       "0       0       6            6     146         9      2491     34\n",
       "1       1       7            2     112         5      2303     36\n",
       "2       1       6            1      84         7      2475     33\n",
       "3       1       8            5     134         0      2282     39\n",
       "4       1       8            5     104         8      2359     42\n",
       "5       2       8            4      80         1      2354     45\n",
       "6       2       6            3      93         0      2943     38\n",
       "7       3       6            3      83         7      2119     45\n",
       "8       3       7            6     139         1      2511     53\n",
       "9       3       7            5     138        10      2666     46\n",
       "10      3       8            5      98         2      2934     56\n",
       "11      4       8            1      90         0      2838     59\n",
       "12      4       7            3     140         7      2102     55\n",
       "13      4       7            6     144         3      2560     56\n",
       "14      5       8            2     144         5      2068     72\n",
       "15      5       6            2     119         6      2541     59\n",
       "16      6       6            1     140         6      2690     62\n",
       "17      6       7            1      85         3      2956     71\n",
       "18      7       8            2     140         8      2239     78\n",
       "19      7       8            6     107         0      2703     88\n",
       "20      7       6            5      85         7      2603     61\n",
       "21      7       6            3     109         0      2031     74\n",
       "22      8       7            5     108         0      2885     71\n",
       "23      8       8            1     150         8      2153     89\n",
       "24      9       8            4     150         9      2384     82\n",
       "25      9       5            5      84        10      2882     67\n",
       "26      9       8            5     127         5      2271     89\n",
       "27     10       8            6      95         6      2264     81\n",
       "28     10       8            5      72         5      2522     82\n",
       "29     11       7            3      89         3      2279     79"
      ]
     },
     "execution_count": 3,
     "metadata": {},
     "output_type": "execute_result"
    }
   ],
   "source": [
    "f"
   ]
  },
  {
   "cell_type": "markdown",
   "metadata": {},
   "source": [
    "Prediction - Marks Obtained\n",
    "\n",
    "Discription of the dataset\n",
    "\n",
    "Hours- Number of hours of study\n",
    "\n",
    "sHours- Number of hours slept\n",
    "\n",
    "hoursplayed- Number of hours the student played during the day.\n",
    "\n",
    "income- family income\n",
    "\n",
    "distnace- how far the student stay from the school.\n",
    "\n",
    "calories- eating habit of the student "
   ]
  },
  {
   "cell_type": "markdown",
   "metadata": {},
   "source": [
    " We will use f_regression here."
   ]
  },
  {
   "cell_type": "code",
   "execution_count": 4,
   "metadata": {},
   "outputs": [],
   "source": [
    "#Split the coulmn into Dependent (Y) and independent(X) features\n",
    "X=f.iloc[:,:-1]\n",
    "Y=f.iloc[:,-1]"
   ]
  },
  {
   "cell_type": "code",
   "execution_count": 5,
   "metadata": {},
   "outputs": [],
   "source": [
    "#Create and train the simple linear regression model"
   ]
  },
  {
   "cell_type": "code",
   "execution_count": 6,
   "metadata": {},
   "outputs": [],
   "source": [
    "from sklearn.linear_model import LinearRegression"
   ]
  },
  {
   "cell_type": "code",
   "execution_count": 7,
   "metadata": {},
   "outputs": [],
   "source": [
    "#Create Regressor\n",
    "std_reg=LinearRegression() "
   ]
  },
  {
   "cell_type": "code",
   "execution_count": 8,
   "metadata": {},
   "outputs": [],
   "source": [
    "from sklearn.model_selection import train_test_split"
   ]
  },
  {
   "cell_type": "code",
   "execution_count": 9,
   "metadata": {},
   "outputs": [],
   "source": [
    "#Split the dataset by rows into training and test datasets.\n",
    "x_train,x_test,y_train,y_test=train_test_split(X,Y,test_size=0.4, random_state=1234)"
   ]
  },
  {
   "cell_type": "code",
   "execution_count": 10,
   "metadata": {},
   "outputs": [
    {
     "data": {
      "text/plain": [
       "LinearRegression()"
      ]
     },
     "execution_count": 10,
     "metadata": {},
     "output_type": "execute_result"
    }
   ],
   "source": [
    "std_reg.fit(x_train,y_train)"
   ]
  },
  {
   "cell_type": "code",
   "execution_count": 11,
   "metadata": {},
   "outputs": [],
   "source": [
    "#predict Y value from test data"
   ]
  },
  {
   "cell_type": "code",
   "execution_count": 12,
   "metadata": {},
   "outputs": [],
   "source": [
    "y_predict=std_reg.predict(x_test)"
   ]
  },
  {
   "cell_type": "code",
   "execution_count": 13,
   "metadata": {},
   "outputs": [
    {
     "data": {
      "text/plain": [
       "array([37.4304362 , 56.8479958 , 38.85467354, 38.975673  , 82.86947672,\n",
       "       59.67634562, 52.29968093, 81.17290759, 67.77562938, 63.7577854 ,\n",
       "       82.18209854, 86.65908659])"
      ]
     },
     "execution_count": 13,
     "metadata": {},
     "output_type": "execute_result"
    }
   ],
   "source": [
    "y_predict"
   ]
  },
  {
   "cell_type": "code",
   "execution_count": 14,
   "metadata": {},
   "outputs": [],
   "source": [
    "from sklearn.metrics import mean_squared_error"
   ]
  },
  {
   "cell_type": "code",
   "execution_count": 15,
   "metadata": {},
   "outputs": [],
   "source": [
    "import math"
   ]
  },
  {
   "cell_type": "code",
   "execution_count": 16,
   "metadata": {},
   "outputs": [],
   "source": [
    "slr_rmse=math.sqrt(mean_squared_error(y_test,y_predict))"
   ]
  },
  {
   "cell_type": "code",
   "execution_count": 17,
   "metadata": {},
   "outputs": [
    {
     "data": {
      "text/plain": [
       "6.982206715357434"
      ]
     },
     "execution_count": 17,
     "metadata": {},
     "output_type": "execute_result"
    }
   ],
   "source": [
    "slr_rmse"
   ]
  },
  {
   "cell_type": "code",
   "execution_count": 18,
   "metadata": {},
   "outputs": [],
   "source": [
    "#Import f_regreesion from sklearn\n",
    "from sklearn.feature_selection import f_regression as fr"
   ]
  },
  {
   "cell_type": "code",
   "execution_count": 19,
   "metadata": {},
   "outputs": [
    {
     "data": {
      "text/plain": [
       "(array([1.41905913e+02, 4.57019756e+00, 1.44882087e-03, 1.59990513e-01,\n",
       "        3.16606568e-03, 4.04208927e-01]),\n",
       " array([1.77038466e-12, 4.14028344e-02, 9.69907241e-01, 6.92200477e-01,\n",
       "        9.55528076e-01, 5.30086171e-01]))"
      ]
     },
     "execution_count": 19,
     "metadata": {},
     "output_type": "execute_result"
    }
   ],
   "source": [
    "fr(X,Y) "
   ]
  },
  {
   "cell_type": "code",
   "execution_count": 20,
   "metadata": {},
   "outputs": [],
   "source": [
    "result= fr(X,Y)"
   ]
  },
  {
   "cell_type": "code",
   "execution_count": 21,
   "metadata": {},
   "outputs": [
    {
     "data": {
      "text/plain": [
       "(array([1.41905913e+02, 4.57019756e+00, 1.44882087e-03, 1.59990513e-01,\n",
       "        3.16606568e-03, 4.04208927e-01]),\n",
       " array([1.77038466e-12, 4.14028344e-02, 9.69907241e-01, 6.92200477e-01,\n",
       "        9.55528076e-01, 5.30086171e-01]))"
      ]
     },
     "execution_count": 21,
     "metadata": {},
     "output_type": "execute_result"
    }
   ],
   "source": [
    "result"
   ]
  },
  {
   "cell_type": "code",
   "execution_count": 22,
   "metadata": {},
   "outputs": [],
   "source": [
    "f_score=result[0]"
   ]
  },
  {
   "cell_type": "code",
   "execution_count": 23,
   "metadata": {},
   "outputs": [],
   "source": [
    "p_values=result[1]"
   ]
  },
  {
   "cell_type": "code",
   "execution_count": 24,
   "metadata": {},
   "outputs": [],
   "source": [
    "my_formatter = \"{0:.2f}\""
   ]
  },
  {
   "cell_type": "code",
   "execution_count": 29,
   "metadata": {},
   "outputs": [
    {
     "data": {
      "text/plain": [
       "array([1.41905913e+02, 4.57019756e+00, 1.44882087e-03, 1.59990513e-01,\n",
       "       3.16606568e-03, 4.04208927e-01])"
      ]
     },
     "execution_count": 29,
     "metadata": {},
     "output_type": "execute_result"
    }
   ],
   "source": [
    "f_score"
   ]
  },
  {
   "cell_type": "code",
   "execution_count": 30,
   "metadata": {},
   "outputs": [
    {
     "data": {
      "text/plain": [
       "array([1.77038466e-12, 4.14028344e-02, 9.69907241e-01, 6.92200477e-01,\n",
       "       9.55528076e-01, 5.30086171e-01])"
      ]
     },
     "execution_count": 30,
     "metadata": {},
     "output_type": "execute_result"
    }
   ],
   "source": [
    "p_values"
   ]
  },
  {
   "cell_type": "code",
   "execution_count": 34,
   "metadata": {},
   "outputs": [],
   "source": [
    "f_score_output=list(map('{:.2f}%'.format,f_score))"
   ]
  },
  {
   "cell_type": "code",
   "execution_count": 35,
   "metadata": {},
   "outputs": [
    {
     "data": {
      "text/plain": [
       "['141.91%', '4.57%', '0.00%', '0.16%', '0.00%', '0.40%']"
      ]
     },
     "execution_count": 35,
     "metadata": {},
     "output_type": "execute_result"
    }
   ],
   "source": [
    "f_score_output"
   ]
  },
  {
   "cell_type": "code",
   "execution_count": 36,
   "metadata": {},
   "outputs": [],
   "source": [
    "p_values_output = list(map('{:.2f}%'.format,p_values))"
   ]
  },
  {
   "cell_type": "code",
   "execution_count": 37,
   "metadata": {},
   "outputs": [
    {
     "data": {
      "text/plain": [
       "['0.00%', '0.04%', '0.97%', '0.69%', '0.96%', '0.53%']"
      ]
     },
     "execution_count": 37,
     "metadata": {},
     "output_type": "execute_result"
    }
   ],
   "source": [
    "p_values_output"
   ]
  },
  {
   "cell_type": "markdown",
   "metadata": {},
   "source": [
    "The first feature of number of hours of study as well as the second the number of hours slept have a P value less tha 0.05 while others have P value much higher than 0.05. We will drop the feature except hours and shours."
   ]
  },
  {
   "cell_type": "code",
   "execution_count": 41,
   "metadata": {},
   "outputs": [],
   "source": [
    "#Print the table of Features, F-Score and P-values"
   ]
  },
  {
   "cell_type": "code",
   "execution_count": 42,
   "metadata": {},
   "outputs": [],
   "source": [
    "columns= list(X.columns)"
   ]
  },
  {
   "cell_type": "code",
   "execution_count": 43,
   "metadata": {},
   "outputs": [
    {
     "data": {
      "text/plain": [
       "['Hours', 'sHours', 'hoursplayed', 'income', 'distance', 'calories']"
      ]
     },
     "execution_count": 43,
     "metadata": {},
     "output_type": "execute_result"
    }
   ],
   "source": [
    "columns"
   ]
  },
  {
   "cell_type": "code",
   "execution_count": 63,
   "metadata": {},
   "outputs": [
    {
     "name": "stdout",
     "output_type": "stream",
     "text": [
      " \n",
      " \n",
      " \n",
      " Feature          F-score     P-Values \n",
      " -------          -------    --------\n",
      "   Hours          141.91     0.000000\n",
      "   sHours           4.57     0.041403\n",
      "   hoursplayed      0.00     0.969907\n",
      "   income           0.16     0.692200\n",
      "   distance         0.00     0.955528\n",
      "   calories         0.40     0.530086\n"
     ]
    }
   ],
   "source": [
    "print(\" \")\n",
    "print(\" \")\n",
    "print(\" \")\n",
    "\n",
    "print(\" Feature \", \"        F-score \",\"   P-Values \")\n",
    "print(\" -------          -------    --------\")\n",
    "\n",
    "for i in range(0, len(columns)):\n",
    "    f1=\"%4.2f\" % f_score[i]\n",
    "    p1=\"%2.6f\" % p_values[i]\n",
    "    print(\"  \", columns[i].ljust(12),f1.rjust(8), \"   \",p1.rjust(8))"
   ]
  },
  {
   "cell_type": "code",
   "execution_count": 64,
   "metadata": {},
   "outputs": [],
   "source": [
    "#will it have an impact after dropping "
   ]
  },
  {
   "cell_type": "code",
   "execution_count": 65,
   "metadata": {},
   "outputs": [],
   "source": [
    "#Perform the m=linear regression with reduced features"
   ]
  },
  {
   "cell_type": "code",
   "execution_count": 74,
   "metadata": {},
   "outputs": [],
   "source": [
    "x_train_n =x_train[['Hours','sHours']]"
   ]
  },
  {
   "cell_type": "code",
   "execution_count": 75,
   "metadata": {},
   "outputs": [],
   "source": [
    "x_test_n =x_test[['Hours','sHours']]"
   ]
  },
  {
   "cell_type": "code",
   "execution_count": 76,
   "metadata": {},
   "outputs": [],
   "source": [
    "#Fit the data nd predict Y for the new model"
   ]
  },
  {
   "cell_type": "code",
   "execution_count": 77,
   "metadata": {},
   "outputs": [],
   "source": [
    "std_reg=LinearRegression() "
   ]
  },
  {
   "cell_type": "code",
   "execution_count": 78,
   "metadata": {},
   "outputs": [
    {
     "data": {
      "text/plain": [
       "LinearRegression()"
      ]
     },
     "execution_count": 78,
     "metadata": {},
     "output_type": "execute_result"
    }
   ],
   "source": [
    "std_reg.fit(x_train_n,y_train)"
   ]
  },
  {
   "cell_type": "code",
   "execution_count": 80,
   "metadata": {},
   "outputs": [],
   "source": [
    "#predict the new Y"
   ]
  },
  {
   "cell_type": "code",
   "execution_count": 83,
   "metadata": {},
   "outputs": [],
   "source": [
    "y_predict_n=std_reg.predict(x_test_n)"
   ]
  },
  {
   "cell_type": "code",
   "execution_count": 84,
   "metadata": {},
   "outputs": [],
   "source": [
    "#Calculate the RMSE with reduced features"
   ]
  },
  {
   "cell_type": "code",
   "execution_count": 85,
   "metadata": {},
   "outputs": [],
   "source": [
    "rmse_n=math.sqrt(mean_squared_error(y_test,y_predict_n))"
   ]
  },
  {
   "cell_type": "code",
   "execution_count": 86,
   "metadata": {},
   "outputs": [
    {
     "data": {
      "text/plain": [
       "5.09721728108113"
      ]
     },
     "execution_count": 86,
     "metadata": {},
     "output_type": "execute_result"
    }
   ],
   "source": [
    "rmse_n"
   ]
  },
  {
   "cell_type": "markdown",
   "metadata": {},
   "source": [
    "The removal of irrelevant feature, and those with higher p value has resulted in a reduction of our error."
   ]
  },
  {
   "cell_type": "markdown",
   "metadata": {},
   "source": [
    "# 2) Chi Square feature selection method-"
   ]
  },
  {
   "cell_type": "markdown",
   "metadata": {},
   "source": [
    "![](30.png)"
   ]
  },
  {
   "cell_type": "markdown",
   "metadata": {},
   "source": [
    "This is data set. It has two variables- flight status and weather.\n",
    "![](31.png)"
   ]
  },
  {
   "cell_type": "markdown",
   "metadata": {},
   "source": [
    "![](32.png)"
   ]
  },
  {
   "cell_type": "markdown",
   "metadata": {},
   "source": [
    "![](33.png)"
   ]
  },
  {
   "cell_type": "markdown",
   "metadata": {},
   "source": [
    "![](34.png)"
   ]
  },
  {
   "cell_type": "markdown",
   "metadata": {},
   "source": [
    "![](35.png)"
   ]
  },
  {
   "cell_type": "markdown",
   "metadata": {},
   "source": [
    "![](36.png)"
   ]
  },
  {
   "cell_type": "markdown",
   "metadata": {},
   "source": [
    "![](37.png)"
   ]
  },
  {
   "cell_type": "markdown",
   "metadata": {},
   "source": [
    "![](38.png)"
   ]
  },
  {
   "cell_type": "markdown",
   "metadata": {},
   "source": [
    "![](39.png)"
   ]
  },
  {
   "cell_type": "markdown",
   "metadata": {},
   "source": [
    "# Selection Transform"
   ]
  },
  {
   "cell_type": "markdown",
   "metadata": {},
   "source": [
    "![](40.png)\n",
    "![](41.png)\n",
    "![](42.png)\n",
    "![](43.png)\n",
    "![](44.png)\n",
    "![](45.png)\n",
    "![](46.png)"
   ]
  },
  {
   "cell_type": "code",
   "execution_count": 89,
   "metadata": {},
   "outputs": [],
   "source": [
    "#Implement various features selections using Select Transform"
   ]
  },
  {
   "cell_type": "code",
   "execution_count": 90,
   "metadata": {},
   "outputs": [],
   "source": [
    "#Import pandas, read the file and split into X and Y"
   ]
  },
  {
   "cell_type": "code",
   "execution_count": 91,
   "metadata": {},
   "outputs": [],
   "source": [
    "import pandas as pd"
   ]
  },
  {
   "cell_type": "code",
   "execution_count": 92,
   "metadata": {},
   "outputs": [],
   "source": [
    "f=pd.read_csv('Students2.csv')"
   ]
  },
  {
   "cell_type": "code",
   "execution_count": 93,
   "metadata": {},
   "outputs": [
    {
     "data": {
      "text/html": [
       "<div>\n",
       "<style scoped>\n",
       "    .dataframe tbody tr th:only-of-type {\n",
       "        vertical-align: middle;\n",
       "    }\n",
       "\n",
       "    .dataframe tbody tr th {\n",
       "        vertical-align: top;\n",
       "    }\n",
       "\n",
       "    .dataframe thead th {\n",
       "        text-align: right;\n",
       "    }\n",
       "</style>\n",
       "<table border=\"1\" class=\"dataframe\">\n",
       "  <thead>\n",
       "    <tr style=\"text-align: right;\">\n",
       "      <th></th>\n",
       "      <th>Hours</th>\n",
       "      <th>sHours</th>\n",
       "      <th>hoursplayed</th>\n",
       "      <th>income</th>\n",
       "      <th>distance</th>\n",
       "      <th>calories</th>\n",
       "      <th>Marks</th>\n",
       "    </tr>\n",
       "  </thead>\n",
       "  <tbody>\n",
       "    <tr>\n",
       "      <th>0</th>\n",
       "      <td>0</td>\n",
       "      <td>6</td>\n",
       "      <td>6</td>\n",
       "      <td>146</td>\n",
       "      <td>9</td>\n",
       "      <td>2491</td>\n",
       "      <td>34</td>\n",
       "    </tr>\n",
       "    <tr>\n",
       "      <th>1</th>\n",
       "      <td>1</td>\n",
       "      <td>7</td>\n",
       "      <td>2</td>\n",
       "      <td>112</td>\n",
       "      <td>5</td>\n",
       "      <td>2303</td>\n",
       "      <td>36</td>\n",
       "    </tr>\n",
       "    <tr>\n",
       "      <th>2</th>\n",
       "      <td>1</td>\n",
       "      <td>6</td>\n",
       "      <td>1</td>\n",
       "      <td>84</td>\n",
       "      <td>7</td>\n",
       "      <td>2475</td>\n",
       "      <td>33</td>\n",
       "    </tr>\n",
       "    <tr>\n",
       "      <th>3</th>\n",
       "      <td>1</td>\n",
       "      <td>8</td>\n",
       "      <td>5</td>\n",
       "      <td>134</td>\n",
       "      <td>0</td>\n",
       "      <td>2282</td>\n",
       "      <td>39</td>\n",
       "    </tr>\n",
       "    <tr>\n",
       "      <th>4</th>\n",
       "      <td>1</td>\n",
       "      <td>8</td>\n",
       "      <td>5</td>\n",
       "      <td>104</td>\n",
       "      <td>8</td>\n",
       "      <td>2359</td>\n",
       "      <td>42</td>\n",
       "    </tr>\n",
       "    <tr>\n",
       "      <th>5</th>\n",
       "      <td>2</td>\n",
       "      <td>8</td>\n",
       "      <td>4</td>\n",
       "      <td>80</td>\n",
       "      <td>1</td>\n",
       "      <td>2354</td>\n",
       "      <td>45</td>\n",
       "    </tr>\n",
       "    <tr>\n",
       "      <th>6</th>\n",
       "      <td>2</td>\n",
       "      <td>6</td>\n",
       "      <td>3</td>\n",
       "      <td>93</td>\n",
       "      <td>0</td>\n",
       "      <td>2943</td>\n",
       "      <td>38</td>\n",
       "    </tr>\n",
       "    <tr>\n",
       "      <th>7</th>\n",
       "      <td>3</td>\n",
       "      <td>6</td>\n",
       "      <td>3</td>\n",
       "      <td>83</td>\n",
       "      <td>7</td>\n",
       "      <td>2119</td>\n",
       "      <td>45</td>\n",
       "    </tr>\n",
       "    <tr>\n",
       "      <th>8</th>\n",
       "      <td>3</td>\n",
       "      <td>7</td>\n",
       "      <td>6</td>\n",
       "      <td>139</td>\n",
       "      <td>1</td>\n",
       "      <td>2511</td>\n",
       "      <td>53</td>\n",
       "    </tr>\n",
       "    <tr>\n",
       "      <th>9</th>\n",
       "      <td>3</td>\n",
       "      <td>7</td>\n",
       "      <td>5</td>\n",
       "      <td>138</td>\n",
       "      <td>10</td>\n",
       "      <td>2666</td>\n",
       "      <td>46</td>\n",
       "    </tr>\n",
       "    <tr>\n",
       "      <th>10</th>\n",
       "      <td>3</td>\n",
       "      <td>8</td>\n",
       "      <td>5</td>\n",
       "      <td>98</td>\n",
       "      <td>2</td>\n",
       "      <td>2934</td>\n",
       "      <td>56</td>\n",
       "    </tr>\n",
       "    <tr>\n",
       "      <th>11</th>\n",
       "      <td>4</td>\n",
       "      <td>8</td>\n",
       "      <td>1</td>\n",
       "      <td>90</td>\n",
       "      <td>0</td>\n",
       "      <td>2838</td>\n",
       "      <td>59</td>\n",
       "    </tr>\n",
       "    <tr>\n",
       "      <th>12</th>\n",
       "      <td>4</td>\n",
       "      <td>7</td>\n",
       "      <td>3</td>\n",
       "      <td>140</td>\n",
       "      <td>7</td>\n",
       "      <td>2102</td>\n",
       "      <td>55</td>\n",
       "    </tr>\n",
       "    <tr>\n",
       "      <th>13</th>\n",
       "      <td>4</td>\n",
       "      <td>7</td>\n",
       "      <td>6</td>\n",
       "      <td>144</td>\n",
       "      <td>3</td>\n",
       "      <td>2560</td>\n",
       "      <td>56</td>\n",
       "    </tr>\n",
       "    <tr>\n",
       "      <th>14</th>\n",
       "      <td>5</td>\n",
       "      <td>8</td>\n",
       "      <td>2</td>\n",
       "      <td>144</td>\n",
       "      <td>5</td>\n",
       "      <td>2068</td>\n",
       "      <td>72</td>\n",
       "    </tr>\n",
       "    <tr>\n",
       "      <th>15</th>\n",
       "      <td>5</td>\n",
       "      <td>6</td>\n",
       "      <td>2</td>\n",
       "      <td>119</td>\n",
       "      <td>6</td>\n",
       "      <td>2541</td>\n",
       "      <td>59</td>\n",
       "    </tr>\n",
       "    <tr>\n",
       "      <th>16</th>\n",
       "      <td>6</td>\n",
       "      <td>6</td>\n",
       "      <td>1</td>\n",
       "      <td>140</td>\n",
       "      <td>6</td>\n",
       "      <td>2690</td>\n",
       "      <td>62</td>\n",
       "    </tr>\n",
       "    <tr>\n",
       "      <th>17</th>\n",
       "      <td>6</td>\n",
       "      <td>7</td>\n",
       "      <td>1</td>\n",
       "      <td>85</td>\n",
       "      <td>3</td>\n",
       "      <td>2956</td>\n",
       "      <td>71</td>\n",
       "    </tr>\n",
       "    <tr>\n",
       "      <th>18</th>\n",
       "      <td>7</td>\n",
       "      <td>8</td>\n",
       "      <td>2</td>\n",
       "      <td>140</td>\n",
       "      <td>8</td>\n",
       "      <td>2239</td>\n",
       "      <td>78</td>\n",
       "    </tr>\n",
       "    <tr>\n",
       "      <th>19</th>\n",
       "      <td>7</td>\n",
       "      <td>8</td>\n",
       "      <td>6</td>\n",
       "      <td>107</td>\n",
       "      <td>0</td>\n",
       "      <td>2703</td>\n",
       "      <td>88</td>\n",
       "    </tr>\n",
       "    <tr>\n",
       "      <th>20</th>\n",
       "      <td>7</td>\n",
       "      <td>6</td>\n",
       "      <td>5</td>\n",
       "      <td>85</td>\n",
       "      <td>7</td>\n",
       "      <td>2603</td>\n",
       "      <td>61</td>\n",
       "    </tr>\n",
       "    <tr>\n",
       "      <th>21</th>\n",
       "      <td>7</td>\n",
       "      <td>6</td>\n",
       "      <td>3</td>\n",
       "      <td>109</td>\n",
       "      <td>0</td>\n",
       "      <td>2031</td>\n",
       "      <td>74</td>\n",
       "    </tr>\n",
       "    <tr>\n",
       "      <th>22</th>\n",
       "      <td>8</td>\n",
       "      <td>7</td>\n",
       "      <td>5</td>\n",
       "      <td>108</td>\n",
       "      <td>0</td>\n",
       "      <td>2885</td>\n",
       "      <td>71</td>\n",
       "    </tr>\n",
       "    <tr>\n",
       "      <th>23</th>\n",
       "      <td>8</td>\n",
       "      <td>8</td>\n",
       "      <td>1</td>\n",
       "      <td>150</td>\n",
       "      <td>8</td>\n",
       "      <td>2153</td>\n",
       "      <td>89</td>\n",
       "    </tr>\n",
       "    <tr>\n",
       "      <th>24</th>\n",
       "      <td>9</td>\n",
       "      <td>8</td>\n",
       "      <td>4</td>\n",
       "      <td>150</td>\n",
       "      <td>9</td>\n",
       "      <td>2384</td>\n",
       "      <td>82</td>\n",
       "    </tr>\n",
       "    <tr>\n",
       "      <th>25</th>\n",
       "      <td>9</td>\n",
       "      <td>5</td>\n",
       "      <td>5</td>\n",
       "      <td>84</td>\n",
       "      <td>10</td>\n",
       "      <td>2882</td>\n",
       "      <td>67</td>\n",
       "    </tr>\n",
       "    <tr>\n",
       "      <th>26</th>\n",
       "      <td>9</td>\n",
       "      <td>8</td>\n",
       "      <td>5</td>\n",
       "      <td>127</td>\n",
       "      <td>5</td>\n",
       "      <td>2271</td>\n",
       "      <td>89</td>\n",
       "    </tr>\n",
       "    <tr>\n",
       "      <th>27</th>\n",
       "      <td>10</td>\n",
       "      <td>8</td>\n",
       "      <td>6</td>\n",
       "      <td>95</td>\n",
       "      <td>6</td>\n",
       "      <td>2264</td>\n",
       "      <td>81</td>\n",
       "    </tr>\n",
       "    <tr>\n",
       "      <th>28</th>\n",
       "      <td>10</td>\n",
       "      <td>8</td>\n",
       "      <td>5</td>\n",
       "      <td>72</td>\n",
       "      <td>5</td>\n",
       "      <td>2522</td>\n",
       "      <td>82</td>\n",
       "    </tr>\n",
       "    <tr>\n",
       "      <th>29</th>\n",
       "      <td>11</td>\n",
       "      <td>7</td>\n",
       "      <td>3</td>\n",
       "      <td>89</td>\n",
       "      <td>3</td>\n",
       "      <td>2279</td>\n",
       "      <td>79</td>\n",
       "    </tr>\n",
       "  </tbody>\n",
       "</table>\n",
       "</div>"
      ],
      "text/plain": [
       "    Hours  sHours  hoursplayed  income  distance  calories  Marks\n",
       "0       0       6            6     146         9      2491     34\n",
       "1       1       7            2     112         5      2303     36\n",
       "2       1       6            1      84         7      2475     33\n",
       "3       1       8            5     134         0      2282     39\n",
       "4       1       8            5     104         8      2359     42\n",
       "5       2       8            4      80         1      2354     45\n",
       "6       2       6            3      93         0      2943     38\n",
       "7       3       6            3      83         7      2119     45\n",
       "8       3       7            6     139         1      2511     53\n",
       "9       3       7            5     138        10      2666     46\n",
       "10      3       8            5      98         2      2934     56\n",
       "11      4       8            1      90         0      2838     59\n",
       "12      4       7            3     140         7      2102     55\n",
       "13      4       7            6     144         3      2560     56\n",
       "14      5       8            2     144         5      2068     72\n",
       "15      5       6            2     119         6      2541     59\n",
       "16      6       6            1     140         6      2690     62\n",
       "17      6       7            1      85         3      2956     71\n",
       "18      7       8            2     140         8      2239     78\n",
       "19      7       8            6     107         0      2703     88\n",
       "20      7       6            5      85         7      2603     61\n",
       "21      7       6            3     109         0      2031     74\n",
       "22      8       7            5     108         0      2885     71\n",
       "23      8       8            1     150         8      2153     89\n",
       "24      9       8            4     150         9      2384     82\n",
       "25      9       5            5      84        10      2882     67\n",
       "26      9       8            5     127         5      2271     89\n",
       "27     10       8            6      95         6      2264     81\n",
       "28     10       8            5      72         5      2522     82\n",
       "29     11       7            3      89         3      2279     79"
      ]
     },
     "execution_count": 93,
     "metadata": {},
     "output_type": "execute_result"
    }
   ],
   "source": [
    "f"
   ]
  },
  {
   "cell_type": "code",
   "execution_count": 97,
   "metadata": {},
   "outputs": [],
   "source": [
    "#Split into X and Y"
   ]
  },
  {
   "cell_type": "code",
   "execution_count": 98,
   "metadata": {},
   "outputs": [],
   "source": [
    "X=f.iloc[:,:-1]"
   ]
  },
  {
   "cell_type": "code",
   "execution_count": 99,
   "metadata": {},
   "outputs": [],
   "source": [
    "Y=f.iloc[:,-1]"
   ]
  },
  {
   "cell_type": "code",
   "execution_count": 100,
   "metadata": {},
   "outputs": [],
   "source": [
    "#Import various select transform along with the f_regression mode"
   ]
  },
  {
   "cell_type": "code",
   "execution_count": 102,
   "metadata": {},
   "outputs": [],
   "source": [
    "from sklearn.feature_selection import SelectKBest, SelectPercentile,GenericUnivariateSelect, f_regression"
   ]
  },
  {
   "cell_type": "code",
   "execution_count": 103,
   "metadata": {},
   "outputs": [],
   "source": [
    "selectorK = SelectKBest(score_func=f_regression, k=3)"
   ]
  },
  {
   "cell_type": "code",
   "execution_count": 104,
   "metadata": {},
   "outputs": [],
   "source": [
    "X_k= selectorK.fit_transform(X,Y)"
   ]
  },
  {
   "cell_type": "code",
   "execution_count": 105,
   "metadata": {},
   "outputs": [
    {
     "data": {
      "text/plain": [
       "array([[   0,    6, 2491],\n",
       "       [   1,    7, 2303],\n",
       "       [   1,    6, 2475],\n",
       "       [   1,    8, 2282],\n",
       "       [   1,    8, 2359],\n",
       "       [   2,    8, 2354],\n",
       "       [   2,    6, 2943],\n",
       "       [   3,    6, 2119],\n",
       "       [   3,    7, 2511],\n",
       "       [   3,    7, 2666],\n",
       "       [   3,    8, 2934],\n",
       "       [   4,    8, 2838],\n",
       "       [   4,    7, 2102],\n",
       "       [   4,    7, 2560],\n",
       "       [   5,    8, 2068],\n",
       "       [   5,    6, 2541],\n",
       "       [   6,    6, 2690],\n",
       "       [   6,    7, 2956],\n",
       "       [   7,    8, 2239],\n",
       "       [   7,    8, 2703],\n",
       "       [   7,    6, 2603],\n",
       "       [   7,    6, 2031],\n",
       "       [   8,    7, 2885],\n",
       "       [   8,    8, 2153],\n",
       "       [   9,    8, 2384],\n",
       "       [   9,    5, 2882],\n",
       "       [   9,    8, 2271],\n",
       "       [  10,    8, 2264],\n",
       "       [  10,    8, 2522],\n",
       "       [  11,    7, 2279]], dtype=int64)"
      ]
     },
     "execution_count": 105,
     "metadata": {},
     "output_type": "execute_result"
    }
   ],
   "source": [
    "X_k"
   ]
  },
  {
   "cell_type": "code",
   "execution_count": 107,
   "metadata": {},
   "outputs": [
    {
     "data": {
      "text/plain": [
       "(30, 3)"
      ]
     },
     "execution_count": 107,
     "metadata": {},
     "output_type": "execute_result"
    }
   ],
   "source": [
    "X_k.shape"
   ]
  },
  {
   "cell_type": "code",
   "execution_count": 108,
   "metadata": {},
   "outputs": [],
   "source": [
    "#Get the f_score and p_values"
   ]
  },
  {
   "cell_type": "code",
   "execution_count": 109,
   "metadata": {},
   "outputs": [],
   "source": [
    "f_score= selectorK.scores_"
   ]
  },
  {
   "cell_type": "code",
   "execution_count": 110,
   "metadata": {},
   "outputs": [
    {
     "data": {
      "text/plain": [
       "array([1.41905913e+02, 4.57019756e+00, 1.44882087e-03, 1.59990513e-01,\n",
       "       3.16606568e-03, 4.04208927e-01])"
      ]
     },
     "execution_count": 110,
     "metadata": {},
     "output_type": "execute_result"
    }
   ],
   "source": [
    "f_score"
   ]
  },
  {
   "cell_type": "code",
   "execution_count": 112,
   "metadata": {},
   "outputs": [],
   "source": [
    "p_values= selectorK.pvalues_"
   ]
  },
  {
   "cell_type": "code",
   "execution_count": 113,
   "metadata": {},
   "outputs": [
    {
     "data": {
      "text/plain": [
       "array([1.77038466e-12, 4.14028344e-02, 9.69907241e-01, 6.92200477e-01,\n",
       "       9.55528076e-01, 5.30086171e-01])"
      ]
     },
     "execution_count": 113,
     "metadata": {},
     "output_type": "execute_result"
    }
   ],
   "source": [
    "p_values"
   ]
  },
  {
   "cell_type": "code",
   "execution_count": 114,
   "metadata": {},
   "outputs": [],
   "source": [
    "#Print the column name with fscore and pvalues\n",
    "#print the table of features, F-score and P-Values"
   ]
  },
  {
   "cell_type": "code",
   "execution_count": 115,
   "metadata": {},
   "outputs": [
    {
     "name": "stdout",
     "output_type": "stream",
     "text": [
      " \n",
      " \n",
      " \n",
      " Feature          F-score     P-Values \n",
      " -------          -------    --------\n",
      "   Hours          141.91     0.000000\n",
      "   sHours           4.57     0.041403\n",
      "   hoursplayed      0.00     0.969907\n",
      "   income           0.16     0.692200\n",
      "   distance         0.00     0.955528\n",
      "   calories         0.40     0.530086\n"
     ]
    }
   ],
   "source": [
    "print(\" \")\n",
    "print(\" \")\n",
    "print(\" \")\n",
    "\n",
    "print(\" Feature \", \"        F-score \",\"   P-Values \")\n",
    "print(\" -------          -------    --------\")\n",
    "\n",
    "for i in range(0, len(columns)):\n",
    "    f1=\"%4.2f\" % f_score[i]\n",
    "    p1=\"%2.6f\" % p_values[i]\n",
    "    print(\"  \", columns[i].ljust(12),f1.rjust(8), \"   \",p1.rjust(8))"
   ]
  },
  {
   "cell_type": "code",
   "execution_count": 127,
   "metadata": {},
   "outputs": [],
   "source": [
    "#Get the selected column name"
   ]
  },
  {
   "cell_type": "code",
   "execution_count": 128,
   "metadata": {},
   "outputs": [],
   "source": [
    "cols= selectorK.get_support(indices=True)"
   ]
  },
  {
   "cell_type": "code",
   "execution_count": 129,
   "metadata": {},
   "outputs": [],
   "source": [
    "selected_cols= X.columns[cols].tolist()"
   ]
  },
  {
   "cell_type": "code",
   "execution_count": 130,
   "metadata": {},
   "outputs": [
    {
     "data": {
      "text/plain": [
       "['Hours', 'sHours', 'calories']"
      ]
     },
     "execution_count": 130,
     "metadata": {},
     "output_type": "execute_result"
    }
   ],
   "source": [
    "selected_cols"
   ]
  },
  {
   "cell_type": "code",
   "execution_count": 131,
   "metadata": {},
   "outputs": [],
   "source": [
    "#SelectPercentile"
   ]
  },
  {
   "cell_type": "code",
   "execution_count": 132,
   "metadata": {},
   "outputs": [],
   "source": [
    "selectorP=SelectPercentile(score_func=f_regression, percentile=50)"
   ]
  },
  {
   "cell_type": "code",
   "execution_count": 133,
   "metadata": {},
   "outputs": [],
   "source": [
    "X_p=selectorP.fit_transform(X,Y)"
   ]
  },
  {
   "cell_type": "code",
   "execution_count": 134,
   "metadata": {},
   "outputs": [
    {
     "data": {
      "text/plain": [
       "array([[   0,    6, 2491],\n",
       "       [   1,    7, 2303],\n",
       "       [   1,    6, 2475],\n",
       "       [   1,    8, 2282],\n",
       "       [   1,    8, 2359],\n",
       "       [   2,    8, 2354],\n",
       "       [   2,    6, 2943],\n",
       "       [   3,    6, 2119],\n",
       "       [   3,    7, 2511],\n",
       "       [   3,    7, 2666],\n",
       "       [   3,    8, 2934],\n",
       "       [   4,    8, 2838],\n",
       "       [   4,    7, 2102],\n",
       "       [   4,    7, 2560],\n",
       "       [   5,    8, 2068],\n",
       "       [   5,    6, 2541],\n",
       "       [   6,    6, 2690],\n",
       "       [   6,    7, 2956],\n",
       "       [   7,    8, 2239],\n",
       "       [   7,    8, 2703],\n",
       "       [   7,    6, 2603],\n",
       "       [   7,    6, 2031],\n",
       "       [   8,    7, 2885],\n",
       "       [   8,    8, 2153],\n",
       "       [   9,    8, 2384],\n",
       "       [   9,    5, 2882],\n",
       "       [   9,    8, 2271],\n",
       "       [  10,    8, 2264],\n",
       "       [  10,    8, 2522],\n",
       "       [  11,    7, 2279]], dtype=int64)"
      ]
     },
     "execution_count": 134,
     "metadata": {},
     "output_type": "execute_result"
    }
   ],
   "source": [
    "X_p"
   ]
  },
  {
   "cell_type": "code",
   "execution_count": 135,
   "metadata": {},
   "outputs": [],
   "source": [
    "#Get the f_score and p_values"
   ]
  },
  {
   "cell_type": "code",
   "execution_count": 136,
   "metadata": {},
   "outputs": [],
   "source": [
    "f_score= selectorK.scores_"
   ]
  },
  {
   "cell_type": "code",
   "execution_count": 137,
   "metadata": {},
   "outputs": [
    {
     "data": {
      "text/plain": [
       "array([1.41905913e+02, 4.57019756e+00, 1.44882087e-03, 1.59990513e-01,\n",
       "       3.16606568e-03, 4.04208927e-01])"
      ]
     },
     "execution_count": 137,
     "metadata": {},
     "output_type": "execute_result"
    }
   ],
   "source": [
    "f_score"
   ]
  },
  {
   "cell_type": "code",
   "execution_count": 138,
   "metadata": {},
   "outputs": [],
   "source": [
    "p_values= selectorK.pvalues_"
   ]
  },
  {
   "cell_type": "code",
   "execution_count": 139,
   "metadata": {},
   "outputs": [
    {
     "data": {
      "text/plain": [
       "array([1.77038466e-12, 4.14028344e-02, 9.69907241e-01, 6.92200477e-01,\n",
       "       9.55528076e-01, 5.30086171e-01])"
      ]
     },
     "execution_count": 139,
     "metadata": {},
     "output_type": "execute_result"
    }
   ],
   "source": [
    "p_values"
   ]
  },
  {
   "cell_type": "code",
   "execution_count": 140,
   "metadata": {},
   "outputs": [],
   "source": [
    "#Print the column name with fscore and pvalues\n",
    "#print the table of features, F-score and P-Values"
   ]
  },
  {
   "cell_type": "code",
   "execution_count": 141,
   "metadata": {},
   "outputs": [
    {
     "name": "stdout",
     "output_type": "stream",
     "text": [
      " \n",
      " \n",
      " \n",
      " Feature          F-score     P-Values \n",
      " -------          -------    --------\n",
      "   Hours          141.91     0.000000\n",
      "   sHours           4.57     0.041403\n",
      "   hoursplayed      0.00     0.969907\n",
      "   income           0.16     0.692200\n",
      "   distance         0.00     0.955528\n",
      "   calories         0.40     0.530086\n"
     ]
    }
   ],
   "source": [
    "print(\" \")\n",
    "print(\" \")\n",
    "print(\" \")\n",
    "\n",
    "print(\" Feature \", \"        F-score \",\"   P-Values \")\n",
    "print(\" -------          -------    --------\")\n",
    "\n",
    "for i in range(0, len(columns)):\n",
    "    f1=\"%4.2f\" % f_score[i]\n",
    "    p1=\"%2.6f\" % p_values[i]\n",
    "    print(\"  \", columns[i].ljust(12),f1.rjust(8), \"   \",p1.rjust(8))"
   ]
  },
  {
   "cell_type": "code",
   "execution_count": 142,
   "metadata": {},
   "outputs": [],
   "source": [
    "#Get the selected column name"
   ]
  },
  {
   "cell_type": "code",
   "execution_count": 143,
   "metadata": {},
   "outputs": [],
   "source": [
    "cols= selectorK.get_support(indices=True)"
   ]
  },
  {
   "cell_type": "code",
   "execution_count": 144,
   "metadata": {},
   "outputs": [],
   "source": [
    "selected_cols= X.columns[cols].tolist()"
   ]
  },
  {
   "cell_type": "code",
   "execution_count": 145,
   "metadata": {},
   "outputs": [
    {
     "data": {
      "text/plain": [
       "['Hours', 'sHours', 'calories']"
      ]
     },
     "execution_count": 145,
     "metadata": {},
     "output_type": "execute_result"
    }
   ],
   "source": [
    "selected_cols"
   ]
  },
  {
   "cell_type": "code",
   "execution_count": 146,
   "metadata": {},
   "outputs": [],
   "source": [
    "#Implement GenericUnivariateSelect transform"
   ]
  },
  {
   "cell_type": "code",
   "execution_count": 147,
   "metadata": {},
   "outputs": [],
   "source": [
    "selectorG1 = GenericUnivariateSelect(score_func=f_regression, mode ='k_best',param=3)"
   ]
  },
  {
   "cell_type": "code",
   "execution_count": 150,
   "metadata": {},
   "outputs": [],
   "source": [
    "X_g1=selectorG1.fit_transform(X,Y)"
   ]
  },
  {
   "cell_type": "code",
   "execution_count": 151,
   "metadata": {},
   "outputs": [
    {
     "data": {
      "text/plain": [
       "array([[   0,    6, 2491],\n",
       "       [   1,    7, 2303],\n",
       "       [   1,    6, 2475],\n",
       "       [   1,    8, 2282],\n",
       "       [   1,    8, 2359],\n",
       "       [   2,    8, 2354],\n",
       "       [   2,    6, 2943],\n",
       "       [   3,    6, 2119],\n",
       "       [   3,    7, 2511],\n",
       "       [   3,    7, 2666],\n",
       "       [   3,    8, 2934],\n",
       "       [   4,    8, 2838],\n",
       "       [   4,    7, 2102],\n",
       "       [   4,    7, 2560],\n",
       "       [   5,    8, 2068],\n",
       "       [   5,    6, 2541],\n",
       "       [   6,    6, 2690],\n",
       "       [   6,    7, 2956],\n",
       "       [   7,    8, 2239],\n",
       "       [   7,    8, 2703],\n",
       "       [   7,    6, 2603],\n",
       "       [   7,    6, 2031],\n",
       "       [   8,    7, 2885],\n",
       "       [   8,    8, 2153],\n",
       "       [   9,    8, 2384],\n",
       "       [   9,    5, 2882],\n",
       "       [   9,    8, 2271],\n",
       "       [  10,    8, 2264],\n",
       "       [  10,    8, 2522],\n",
       "       [  11,    7, 2279]], dtype=int64)"
      ]
     },
     "execution_count": 151,
     "metadata": {},
     "output_type": "execute_result"
    }
   ],
   "source": [
    "X_g1"
   ]
  },
  {
   "cell_type": "code",
   "execution_count": 152,
   "metadata": {},
   "outputs": [],
   "source": [
    "selectorG2 = GenericUnivariateSelect(score_func=f_regression, mode ='percentile',param=50)"
   ]
  },
  {
   "cell_type": "code",
   "execution_count": 155,
   "metadata": {},
   "outputs": [],
   "source": [
    "X_g2=selectorG2.fit_transform(X,Y)"
   ]
  },
  {
   "cell_type": "code",
   "execution_count": 157,
   "metadata": {},
   "outputs": [
    {
     "data": {
      "text/plain": [
       "array([[   0,    6, 2491],\n",
       "       [   1,    7, 2303],\n",
       "       [   1,    6, 2475],\n",
       "       [   1,    8, 2282],\n",
       "       [   1,    8, 2359],\n",
       "       [   2,    8, 2354],\n",
       "       [   2,    6, 2943],\n",
       "       [   3,    6, 2119],\n",
       "       [   3,    7, 2511],\n",
       "       [   3,    7, 2666],\n",
       "       [   3,    8, 2934],\n",
       "       [   4,    8, 2838],\n",
       "       [   4,    7, 2102],\n",
       "       [   4,    7, 2560],\n",
       "       [   5,    8, 2068],\n",
       "       [   5,    6, 2541],\n",
       "       [   6,    6, 2690],\n",
       "       [   6,    7, 2956],\n",
       "       [   7,    8, 2239],\n",
       "       [   7,    8, 2703],\n",
       "       [   7,    6, 2603],\n",
       "       [   7,    6, 2031],\n",
       "       [   8,    7, 2885],\n",
       "       [   8,    8, 2153],\n",
       "       [   9,    8, 2384],\n",
       "       [   9,    5, 2882],\n",
       "       [   9,    8, 2271],\n",
       "       [  10,    8, 2264],\n",
       "       [  10,    8, 2522],\n",
       "       [  11,    7, 2279]], dtype=int64)"
      ]
     },
     "execution_count": 157,
     "metadata": {},
     "output_type": "execute_result"
    }
   ],
   "source": [
    "X_g2"
   ]
  },
  {
   "cell_type": "code",
   "execution_count": null,
   "metadata": {},
   "outputs": [],
   "source": []
  }
 ],
 "metadata": {
  "kernelspec": {
   "display_name": "Python 3",
   "language": "python",
   "name": "python3"
  },
  "language_info": {
   "codemirror_mode": {
    "name": "ipython",
    "version": 3
   },
   "file_extension": ".py",
   "mimetype": "text/x-python",
   "name": "python",
   "nbconvert_exporter": "python",
   "pygments_lexer": "ipython3",
   "version": "3.8.5"
  }
 },
 "nbformat": 4,
 "nbformat_minor": 4
}
